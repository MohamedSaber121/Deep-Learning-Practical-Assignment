{
  "nbformat": 4,
  "nbformat_minor": 0,
  "metadata": {
    "colab": {
      "provenance": []
    },
    "kernelspec": {
      "name": "python3",
      "display_name": "Python 3"
    },
    "language_info": {
      "name": "python"
    }
  },
  "cells": [
    {
      "cell_type": "markdown",
      "source": [
        "###Objective: -\n",
        "Predict Next Sequence To start with deep learning, the very basic project that you can build is to predict the next digit in a sequence.\n",
        "\n",
        "###Dataset: -\n",
        "Create a sequence like a list of odd numbers and then build a model and train it to predict the next digit in the sequence.\n",
        "\n",
        "###Task: -\n",
        "A simple neural network with 2 layers would be sufficient to build the model."
      ],
      "metadata": {
        "id": "RgD-MZHwGNJb"
      }
    },
    {
      "cell_type": "code",
      "source": [
        "import numpy as np\n",
        "from tensorflow.keras.models import Sequential\n",
        "from tensorflow.keras.layers import Dense"
      ],
      "metadata": {
        "id": "1XDuGTzXwmaI"
      },
      "execution_count": 1,
      "outputs": []
    },
    {
      "cell_type": "code",
      "source": [
        "# Create the sequence of odd numbers\n",
        "sequence = [1, 3, 5, 7, 9, 11, 13, 15, 17, 19, 21, 23, 25, 27, 29, 31, 33, 35, 37, 39]"
      ],
      "metadata": {
        "id": "ET80L7p-xIfe"
      },
      "execution_count": 2,
      "outputs": []
    },
    {
      "cell_type": "code",
      "source": [
        "# Prepare the data for training\n",
        "X = np.array(sequence[:-1])  # Input sequence without the last element\n",
        "y = np.array(sequence[1:])   # Output sequence without the first element"
      ],
      "metadata": {
        "id": "zDNi4qzyxmJb"
      },
      "execution_count": 3,
      "outputs": []
    },
    {
      "cell_type": "code",
      "source": [
        "# Define the model architecture\n",
        "model = Sequential()\n",
        "model.add(Dense(10, input_dim=1, activation='relu'))\n",
        "model.add(Dense(1, activation='linear'))"
      ],
      "metadata": {
        "id": "cz0tKChQyDzM"
      },
      "execution_count": 4,
      "outputs": []
    },
    {
      "cell_type": "code",
      "source": [
        "# Compile the model\n",
        "model.compile(loss='mean_squared_error', optimizer='adam')"
      ],
      "metadata": {
        "id": "Ku8KqsDQzbBe"
      },
      "execution_count": 5,
      "outputs": []
    },
    {
      "cell_type": "code",
      "source": [
        "# Train the model\n",
        "model.fit(X, y, epochs=100, batch_size=1, verbose=0)"
      ],
      "metadata": {
        "colab": {
          "base_uri": "https://localhost:8080/"
        },
        "id": "WaPtlr4WzsDg",
        "outputId": "2cf7c71f-ccc3-4ca5-f7b8-0f8d22d334b1"
      },
      "execution_count": 6,
      "outputs": [
        {
          "output_type": "execute_result",
          "data": {
            "text/plain": [
              "<keras.src.callbacks.History at 0x789b7324bd90>"
            ]
          },
          "metadata": {},
          "execution_count": 6
        }
      ]
    },
    {
      "cell_type": "code",
      "source": [
        "# Predict the next number in the sequence\n",
        "next_number = model.predict(np.array([sequence[-1]]))\n",
        "next_number = int(round(next_number[0][0]))\n",
        "print(\"Next number in the sequence:\", next_number)"
      ],
      "metadata": {
        "colab": {
          "base_uri": "https://localhost:8080/"
        },
        "id": "NgbOJA260BNr",
        "outputId": "37cee8c4-c85d-4f6c-9cd0-ae73c821690d"
      },
      "execution_count": 7,
      "outputs": [
        {
          "output_type": "stream",
          "name": "stdout",
          "text": [
            "1/1 [==============================] - 0s 95ms/step\n",
            "Next number in the sequence: 41\n"
          ]
        }
      ]
    }
  ]
}